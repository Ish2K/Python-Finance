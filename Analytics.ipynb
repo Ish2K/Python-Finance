{
 "cells": [
  {
   "cell_type": "code",
   "execution_count": 1,
   "id": "b957b432",
   "metadata": {},
   "outputs": [],
   "source": [
    "import math\n",
    "import numpy as np"
   ]
  },
  {
   "cell_type": "code",
   "execution_count": 2,
   "id": "3c81270e",
   "metadata": {},
   "outputs": [],
   "source": [
    "S0 = 100.\n",
    "K = 105.\n",
    "T = 1.0\n",
    "r = 0.05\n",
    "sigma = 0.2"
   ]
  },
  {
   "cell_type": "code",
   "execution_count": 3,
   "id": "aa2aec2d",
   "metadata": {},
   "outputs": [],
   "source": [
    "I = 100000"
   ]
  },
  {
   "cell_type": "code",
   "execution_count": 4,
   "id": "8295f231",
   "metadata": {},
   "outputs": [],
   "source": [
    "np.random.seed(1000)"
   ]
  },
  {
   "cell_type": "code",
   "execution_count": 5,
   "id": "af0b54f1",
   "metadata": {},
   "outputs": [],
   "source": [
    "z = np.random.standard_normal(I)"
   ]
  },
  {
   "cell_type": "code",
   "execution_count": 6,
   "id": "53868cde",
   "metadata": {},
   "outputs": [],
   "source": [
    "ST = S0 * np.exp((r - sigma ** 2 / 2) * T + sigma * math.sqrt(T) * z)"
   ]
  },
  {
   "cell_type": "code",
   "execution_count": 7,
   "id": "84c0756b",
   "metadata": {},
   "outputs": [],
   "source": [
    "hT = np.maximum(ST - K, 0)"
   ]
  },
  {
   "cell_type": "code",
   "execution_count": 8,
   "id": "59346b25",
   "metadata": {},
   "outputs": [],
   "source": [
    "C0 = math.exp(-r * T) * np.mean(hT)"
   ]
  },
  {
   "cell_type": "code",
   "execution_count": 9,
   "id": "f20c356b",
   "metadata": {},
   "outputs": [
    {
     "name": "stdout",
     "output_type": "stream",
     "text": [
      "Value of the European call option: 8.019.\n"
     ]
    }
   ],
   "source": [
    "print('Value of the European call option: {:5.3f}.'.format(C0))"
   ]
  },
  {
   "cell_type": "code",
   "execution_count": null,
   "id": "f1cbecd2",
   "metadata": {},
   "outputs": [],
   "source": []
  }
 ],
 "metadata": {
  "kernelspec": {
   "display_name": "Python [conda env:venv]",
   "language": "python",
   "name": "conda-env-venv-py"
  },
  "language_info": {
   "codemirror_mode": {
    "name": "ipython",
    "version": 3
   },
   "file_extension": ".py",
   "mimetype": "text/x-python",
   "name": "python",
   "nbconvert_exporter": "python",
   "pygments_lexer": "ipython3",
   "version": "3.9.7"
  }
 },
 "nbformat": 4,
 "nbformat_minor": 5
}
